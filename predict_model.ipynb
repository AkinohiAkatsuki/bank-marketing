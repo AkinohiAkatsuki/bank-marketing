{
 "cells": [
  {
   "cell_type": "code",
   "execution_count": null,
   "metadata": {},
   "outputs": [],
   "source": [
    "import pandas as pd\n",
    "import numpy as np\n",
    "import scipy.stats as stats\n",
    "import matplotlib\n",
    "import matplotlib.pyplot as plt\n",
    "import matplotlib.ticker as mtick\n",
    "import seaborn as sns\n",
    "\n",
    "%matplotlib inline\n",
    "%config InlineBackend.figure_formats = {'jpg', 'retina'}"
   ]
  },
  {
   "cell_type": "code",
   "execution_count": null,
   "metadata": {},
   "outputs": [],
   "source": [
    "sns.set(style=\"darkgrid\")\n",
    "sns.set_context(\"paper\")"
   ]
  },
  {
   "cell_type": "code",
   "execution_count": null,
   "metadata": {},
   "outputs": [],
   "source": [
    "df_bank = pd.read_csv(\"data/bank_marketing_train.csv\")"
   ]
  },
  {
   "cell_type": "code",
   "execution_count": null,
   "metadata": {},
   "outputs": [],
   "source": [
    "df_bank.head()"
   ]
  },
  {
   "cell_type": "code",
   "execution_count": null,
   "metadata": {},
   "outputs": [],
   "source": [
    "# 欠損値の確認\n",
    "df_bank.isnull().sum()"
   ]
  },
  {
   "cell_type": "code",
   "execution_count": null,
   "metadata": {},
   "outputs": [],
   "source": [
    "# 年齢を10歳ごとに区切ってグループ化\n",
    "\n",
    "df_bank[\"age\"] = df_bank[\"age\"] // 10\n",
    "df_bank.head()"
   ]
  },
  {
   "cell_type": "code",
   "execution_count": null,
   "metadata": {},
   "outputs": [],
   "source": [
    "# age をカテゴリ変数化する\n",
    "df_bank['age'] = df_bank['age'].astype(object)\n",
    "df_bank.head()"
   ]
  },
  {
   "cell_type": "code",
   "execution_count": null,
   "metadata": {},
   "outputs": [],
   "source": [
    "df_bank['previous'].value_counts()"
   ]
  },
  {
   "cell_type": "code",
   "execution_count": null,
   "metadata": {},
   "outputs": [],
   "source": [
    "# previous の回数が1以上のデータが少ないので、0,1,2...の量的データではなく\n",
    "# 以前の接触あり・なしの質的データに変換\n",
    "\n",
    "df_bank[\"previous\"] = df_bank[\"previous\"].map({0:\"no\", 1:\"yes\", 2:\"yes\", 3:\"yes\", 4:\"yes\", 5:\"yes\", 6:\"yes\", 7:\"yes\"})\n",
    "df_bank.head()"
   ]
  },
  {
   "cell_type": "code",
   "execution_count": null,
   "metadata": {},
   "outputs": [],
   "source": [
    "# カテゴリカル変数をダミー変数に一括変換\n",
    "df_bank = pd.get_dummies(df_bank)"
   ]
  },
  {
   "cell_type": "code",
   "execution_count": null,
   "metadata": {},
   "outputs": [],
   "source": [
    "df_bank.head()"
   ]
  },
  {
   "cell_type": "code",
   "execution_count": null,
   "metadata": {},
   "outputs": [],
   "source": [
    "# 目的変数yが2列になってしまったので片方除外。知りたいのは yes かどうかなので y_no を消す\n",
    "# 同じく previous_no も消す\n",
    "df_bank.drop(columns=['y_no', 'previous_no'], inplace=True)"
   ]
  },
  {
   "cell_type": "code",
   "execution_count": null,
   "metadata": {},
   "outputs": [],
   "source": [
    "df_bank.head()"
   ]
  },
  {
   "cell_type": "code",
   "execution_count": null,
   "metadata": {},
   "outputs": [],
   "source": [
    "from collections import Counter\n",
    "from sklearn.linear_model import LogisticRegression\n",
    "from sklearn.model_selection import train_test_split\n",
    "from sklearn.metrics import accuracy_score, confusion_matrix, precision_recall_curve\n",
    "from imblearn.over_sampling import SMOTE\n",
    "from imblearn.combine import SMOTEENN\n",
    "from imblearn.under_sampling import ClusterCentroids"
   ]
  },
  {
   "cell_type": "code",
   "execution_count": null,
   "metadata": {},
   "outputs": [],
   "source": [
    "exclude_cols = [\"y_yes\",'age_9', 'job_unknown', 'marital_unknown', 'education_unknown',\n",
    "                'day_of_week_fri', 'day_of_week_mon', 'day_of_week_thu', 'day_of_week_tue', 'day_of_week_wed',\n",
    "                'default_unknown','housing_unknown','loan_unknown','contact_cellular','poutcome_nonexistent']\n",
    "feature_cols = []\n",
    "for col in df_bank.columns:\n",
    "    if col not in exclude_cols:\n",
    "        feature_cols.append(col)\n",
    "        \n",
    "y = df_bank[\"y_yes\"] # 目的変数\n",
    "X = df_bank[feature_cols]  # 説明変数"
   ]
  },
  {
   "cell_type": "code",
   "execution_count": null,
   "metadata": {},
   "outputs": [],
   "source": [
    "feature_cols"
   ]
  },
  {
   "cell_type": "code",
   "execution_count": null,
   "metadata": {},
   "outputs": [],
   "source": [
    "df_bank[feature_cols].head()"
   ]
  },
  {
   "cell_type": "code",
   "execution_count": null,
   "metadata": {},
   "outputs": [],
   "source": [
    "# Xとyの数\n",
    "print('Original dataset shape %s' % Counter(y))"
   ]
  },
  {
   "cell_type": "code",
   "execution_count": null,
   "metadata": {},
   "outputs": [],
   "source": [
    "# 学習データを70%(X_train, y_train)、テストデータを30%(X_val, y_val)に分割にする\n",
    "X_train, X_val, y_train, y_val = \\\n",
    "    train_test_split(X, y, test_size=0.3, random_state=1234)\n",
    "print('Sampled dataset shape %s' % Counter(y_train))"
   ]
  },
  {
   "cell_type": "code",
   "execution_count": null,
   "metadata": {},
   "outputs": [],
   "source": [
    "# アンダーサンプリングで\n",
    "X_cc, y_cc = ClusterCentroids(random_state=1234).fit_sample(X_train, y_train)\n",
    "print('Resampled dataset shape %s' % Counter(y_cc))"
   ]
  },
  {
   "cell_type": "code",
   "execution_count": null,
   "metadata": {},
   "outputs": [],
   "source": [
    "# SMOTEでオーバーサンプリングを行ない X_train, y_train の正誤を同数に調整\n",
    "sm = SMOTE(random_state=1234)\n",
    "X_train_res, y_train_res = sm.fit_sample(X_train, y_train)\n",
    "\n",
    "print('Resampled dataset shape %s' % Counter(y_train_res))"
   ]
  },
  {
   "cell_type": "code",
   "execution_count": null,
   "metadata": {},
   "outputs": [],
   "source": [
    "# SMOTEENNでアンダーサンプリングとオーバーサンプリングを同時に行なった場合\n",
    "X_smoteenn, y_smoteenn = SMOTEENN(random_state=1234).fit_sample(X_train, y_train)\n",
    "\n",
    "print('Resampled dataset shape %s' % Counter(y_smoteenn))"
   ]
  },
  {
   "cell_type": "markdown",
   "metadata": {},
   "source": [
    "## ロジスティック回帰"
   ]
  },
  {
   "cell_type": "code",
   "execution_count": null,
   "metadata": {},
   "outputs": [],
   "source": [
    "# アンダーサンプリング適用時のモデル\n",
    "lr3 = LogisticRegression(random_state=1234)\n",
    "lr3.fit(X_cc, y_cc)\n",
    "y_pred_lr3 = lr3.predict(X_val)\n",
    "\n",
    "# 正解率と混同行列\n",
    "print('Confusion matrix(test):\\n{}'.format(confusion_matrix(y_val, y_pred_lr3)))\n",
    "print('Accuracy(test) : %.5f' %accuracy_score(y_val, y_pred_lr3))\n",
    "\n",
    "# PrecisionとRecall\n",
    "tn, fp, fn, tp = confusion_matrix(y_val, y_pred_lr3).ravel()\n",
    "print('precision : %.4f'%(tp / (tp + fp)))\n",
    "print('recall    : %.4f'%(tp / (tp + fn)))\n",
    "print(\"f-measure : %.4f\"%(2 * (tp / (tp + fp))*(tp / (tp + fn)) / ((tp / (tp + fp)) + (tp / (tp + fn)))))"
   ]
  },
  {
   "cell_type": "code",
   "execution_count": null,
   "metadata": {},
   "outputs": [],
   "source": [
    "# アンダーサンプリング時のROC曲線の描画の準備\n",
    "from sklearn.metrics import roc_curve, auc\n",
    "\n",
    "# 偽陽性率、真陽性率の取得\n",
    "fpr, tpr, thresholds = roc_curve(y_val,y_pred_lr3,drop_intermediate=False)\n",
    "\n",
    "# AUC算出\n",
    "auc = auc(fpr, tpr)\n",
    "\n",
    "# 描画\n",
    "plt.plot(fpr, tpr, color=\"purple\", label=\"ROC curve (area = %.3f)\" % auc)\n",
    "plt.plot([0,1],[0,1], color=\"black\", linestyle=\"--\")\n",
    "\n",
    "plt.xlabel(\"Faulse Psitive Rate\")\n",
    "plt.ylabel(\"True Psitive Rate\")\n",
    "plt.legend(loc=\"best\")"
   ]
  },
  {
   "cell_type": "code",
   "execution_count": null,
   "metadata": {},
   "outputs": [],
   "source": [
    "# オーバーサンプリングを適用したデータによるモデル作成\n",
    "lr = LogisticRegression(random_state=1234)\n",
    "lr.fit(X_train_res, y_train_res)"
   ]
  },
  {
   "cell_type": "code",
   "execution_count": null,
   "metadata": {},
   "outputs": [],
   "source": [
    "# 予測値算出\n",
    "y_pred_lr = lr.predict(X_val)"
   ]
  },
  {
   "cell_type": "code",
   "execution_count": null,
   "metadata": {},
   "outputs": [],
   "source": [
    "# 正解率と混同行列\n",
    "print('Confusion matrix(test):\\n{}'.format(confusion_matrix(y_val, y_pred_lr)))\n",
    "print('Accuracy(test) : %.5f' %accuracy_score(y_val, y_pred_lr))"
   ]
  },
  {
   "cell_type": "code",
   "execution_count": null,
   "metadata": {},
   "outputs": [],
   "source": [
    "# PrecisionとRecall\n",
    "tn, fp, fn, tp = confusion_matrix(y_val, y_pred_lr).ravel()\n",
    "print('precision : %.4f'%(tp / (tp + fp)))\n",
    "print('recall    : %.4f'%(tp / (tp + fn)))\n",
    "print(\"f-measure : %.4f\"%(2 * (tp / (tp + fp))*(tp / (tp + fn)) / ((tp / (tp + fp)) + (tp / (tp + fn)))))"
   ]
  },
  {
   "cell_type": "code",
   "execution_count": null,
   "metadata": {},
   "outputs": [],
   "source": [
    "# オーバーサンプリング時のROC曲線の描画の準備\n",
    "from sklearn.metrics import roc_curve, auc\n",
    "\n",
    "# 偽陽性率、真陽性率の取得\n",
    "fpr, tpr, thresholds = roc_curve(y_val,y_pred_lr)\n",
    "\n",
    "# AUC算出\n",
    "auc = auc(fpr, tpr)\n",
    "\n",
    "# 描画\n",
    "plt.plot(fpr, tpr, color=\"purple\", label=\"ROC curve (area = %.3f)\" % auc)\n",
    "plt.plot([0,1],[0,1], color=\"black\", linestyle=\"--\")\n",
    "\n",
    "plt.xlabel(\"Faulse Psitive Rate\")\n",
    "plt.ylabel(\"True Psitive Rate\")\n",
    "plt.legend(loc=\"best\")"
   ]
  },
  {
   "cell_type": "code",
   "execution_count": null,
   "metadata": {},
   "outputs": [],
   "source": [
    "# 混合リサンプリングを適用したモデル作成\n",
    "lr2 = LogisticRegression(random_state=1234)\n",
    "lr2.fit(X_smoteenn, y_smoteenn)\n",
    "y_pred_lr2 = lr2.predict(X_val)"
   ]
  },
  {
   "cell_type": "code",
   "execution_count": null,
   "metadata": {},
   "outputs": [],
   "source": [
    "# 正解率と混同行列\n",
    "print('Confusion matrix(test):\\n{}'.format(confusion_matrix(y_val, y_pred_lr2)))\n",
    "print('Accuracy(test) : %.5f' %accuracy_score(y_val, y_pred_lr2))"
   ]
  },
  {
   "cell_type": "code",
   "execution_count": null,
   "metadata": {},
   "outputs": [],
   "source": [
    "# PrecisionとRecall\n",
    "tn, fp, fn, tp = confusion_matrix(y_val, y_pred_lr2).ravel()\n",
    "print('precision : %.4f'%(tp / (tp + fp)))\n",
    "print('recall    : %.4f'%(tp / (tp + fn)))\n",
    "print(\"f-measure : %.4f\"%(2 * (tp / (tp + fp))*(tp / (tp + fn)) / ((tp / (tp + fp)) + (tp / (tp + fn)))))"
   ]
  },
  {
   "cell_type": "code",
   "execution_count": null,
   "metadata": {},
   "outputs": [],
   "source": [
    "# 混合リサンプリング時のROC曲線の描画の準備\n",
    "from sklearn.metrics import roc_curve, auc\n",
    "\n",
    "# 偽陽性率、真陽性率の取得\n",
    "fpr, tpr, thresholds = roc_curve(y_val,y_pred_lr2,drop_intermediate=False)\n",
    "\n",
    "# AUC算出\n",
    "auc = auc(fpr, tpr)\n",
    "\n",
    "# 描画\n",
    "plt.plot(fpr, tpr, color=\"purple\", label=\"ROC curve (area = %.3f)\" % auc)\n",
    "plt.plot([0,1],[0,1], color=\"black\", linestyle=\"--\")\n",
    "\n",
    "plt.xlabel(\"Faulse Psitive Rate\")\n",
    "plt.ylabel(\"True Psitive Rate\")\n",
    "plt.legend(loc=\"best\")"
   ]
  },
  {
   "cell_type": "code",
   "execution_count": null,
   "metadata": {},
   "outputs": [],
   "source": [
    "prob = lr2.predict_proba(X_val)\n",
    "precision, recall, thresholds = precision_recall_curve(y_val, prob[:,1], pos_label=1)"
   ]
  },
  {
   "cell_type": "code",
   "execution_count": null,
   "metadata": {},
   "outputs": [],
   "source": [
    "precision_recall_report = pd.DataFrame({\n",
    "    'precision':precision[:-1],\n",
    "    'recall':recall[:-1],\n",
    "    'threshold':thresholds},)\n",
    "precision_recall_report[(precision_recall_report.threshold > 0.1 )&(precision_recall_report.threshold < 0.13)]"
   ]
  },
  {
   "cell_type": "markdown",
   "metadata": {},
   "source": [
    "## テストデータへの適用"
   ]
  },
  {
   "cell_type": "code",
   "execution_count": null,
   "metadata": {},
   "outputs": [],
   "source": [
    "df_bank_test = pd.read_csv(\"data/bank_marketing_test.csv\")"
   ]
  },
  {
   "cell_type": "code",
   "execution_count": null,
   "metadata": {},
   "outputs": [],
   "source": [
    "df_bank_test.head()"
   ]
  },
  {
   "cell_type": "code",
   "execution_count": null,
   "metadata": {},
   "outputs": [],
   "source": [
    "df_bank_test[\"age\"] = df_bank_test[\"age\"] // 10\n",
    "df_bank_test['age'] = df_bank_test['age'].astype(object)\n",
    "df_bank_test[\"previous\"] = df_bank_test[\"previous\"].map(\n",
    "    {0:\"no\", 1:\"yes\", 2:\"yes\", 3:\"yes\", 4:\"yes\", 5:\"yes\", 6:\"yes\", 7:\"yes\"})\n",
    "df_bank_test = pd.get_dummies(df_bank_test)\n",
    "df_bank_test.drop(columns=['y_no', 'previous_no'], inplace=True)\n",
    "\n",
    "exclude_cols = [\"y_yes\",'age_9', 'job_unknown', 'marital_unknown', 'education_unknown',\n",
    "                'day_of_week_fri', 'day_of_week_mon', 'day_of_week_thu', 'day_of_week_tue', 'day_of_week_wed',\n",
    "                'default_unknown','housing_unknown','loan_unknown','contact_cellular','poutcome_nonexistent']\n",
    "feature_cols = []\n",
    "for col in df_bank_test.columns:\n",
    "    if col not in exclude_cols:\n",
    "        feature_cols.append(col)\n",
    "        \n",
    "y = df_bank_test[\"y_yes\"] # 目的変数\n",
    "X = df_bank_test[feature_cols]  # 説明変数"
   ]
  },
  {
   "cell_type": "code",
   "execution_count": null,
   "metadata": {},
   "outputs": [],
   "source": [
    "y_pred_lr_test = lr2.predict(X)"
   ]
  },
  {
   "cell_type": "code",
   "execution_count": null,
   "metadata": {},
   "outputs": [],
   "source": [
    "# 正解率と混同行列\n",
    "print('Confusion matrix(test):\\n{}'.format(confusion_matrix(y, y_pred_lr_test)))\n",
    "print('Accuracy(test) : %.5f' %accuracy_score(y, y_pred_lr_test))\n",
    "\n",
    "# PrecisionとRecall\n",
    "tn, fp, fn, tp = confusion_matrix(y, y_pred_lr_test).ravel()\n",
    "print('precision : %.4f'%(tp / (tp + fp)))\n",
    "print('recall    : %.4f'%(tp / (tp + fn)))\n",
    "print(\"f-measure : %.4f\"%(2 * (tp / (tp + fp))*(tp / (tp + fn)) / ((tp / (tp + fp)) + (tp / (tp + fn)))))"
   ]
  },
  {
   "cell_type": "code",
   "execution_count": null,
   "metadata": {},
   "outputs": [],
   "source": [
    "prob = lr2.predict_proba(X)\n",
    "precision, recall, thresholds = precision_recall_curve(y, prob[:,1], pos_label=1)"
   ]
  },
  {
   "cell_type": "code",
   "execution_count": null,
   "metadata": {},
   "outputs": [],
   "source": [
    "precision_recall_report = pd.DataFrame({\n",
    "    'precision':precision[:-1],\n",
    "    'recall':recall[:-1],\n",
    "    'threshold':thresholds},)\n",
    "precision_recall_report"
   ]
  },
  {
   "cell_type": "code",
   "execution_count": null,
   "metadata": {},
   "outputs": [],
   "source": [
    "# 閾値を0.1にずらす\n",
    "y_pred_lr_test_new_threshold = (prob[:,1] >= 0.1).astype(bool)\n",
    "\n",
    "# 正解率と混同行列\n",
    "print('Confusion matrix(test):\\n{}'.format(confusion_matrix(y, y_pred_lr_test_new_threshold)))\n",
    "print('Accuracy(test) : %.5f' %accuracy_score(y, y_pred_lr_test_new_threshold))\n",
    "\n",
    "# PrecisionとRecall\n",
    "tn, fp, fn, tp = confusion_matrix(y, y_pred_lr_test_new_threshold).ravel()\n",
    "print('precision : %.4f'%(tp / (tp + fp)))\n",
    "print('recall    : %.4f'%(tp / (tp + fn)))\n",
    "print(\"f-measure : %.4f\"%(2 * (tp / (tp + fp))*(tp / (tp + fn)) / ((tp / (tp + fp)) + (tp / (tp + fn)))))"
   ]
  },
  {
   "cell_type": "code",
   "execution_count": null,
   "metadata": {},
   "outputs": [],
   "source": [
    "ROI = 5000 * tp - 500 * (tp + fp)\n",
    "ROI"
   ]
  },
  {
   "cell_type": "code",
   "execution_count": null,
   "metadata": {},
   "outputs": [],
   "source": [
    "# テストデータ適用時のROC曲線の描画の準備\n",
    "from sklearn.metrics import roc_curve, auc\n",
    "\n",
    "# 偽陽性率、真陽性率の取得\n",
    "fpr, tpr, thresholds = roc_curve(y,y_pred_lr_test,drop_intermediate=False)\n",
    "\n",
    "# AUC算出\n",
    "auc = auc(fpr, tpr)\n",
    "\n",
    "# 描画\n",
    "plt.plot(fpr, tpr, color=\"purple\", label=\"ROC curve (area = %.3f)\" % auc)\n",
    "plt.plot([0,1],[0,1], color=\"black\", linestyle=\"--\")\n",
    "\n",
    "plt.xlabel(\"Faulse Psitive Rate\")\n",
    "plt.ylabel(\"True Psitive Rate\")\n",
    "plt.legend(loc=\"best\")"
   ]
  }
 ],
 "metadata": {
  "kernelspec": {
   "display_name": "Python 3",
   "language": "python",
   "name": "python3"
  },
  "language_info": {
   "codemirror_mode": {
    "name": "ipython",
    "version": 3
   },
   "file_extension": ".py",
   "mimetype": "text/x-python",
   "name": "python",
   "nbconvert_exporter": "python",
   "pygments_lexer": "ipython3",
   "version": "3.7.4"
  }
 },
 "nbformat": 4,
 "nbformat_minor": 4
}
